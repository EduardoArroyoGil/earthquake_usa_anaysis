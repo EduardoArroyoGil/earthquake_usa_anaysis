{
 "cells": [
  {
   "cell_type": "code",
   "execution_count": 6,
   "id": "ca9256ef",
   "metadata": {},
   "outputs": [],
   "source": [
    "import pandas as pd\n",
    "import numpy as np\n",
    "\n",
    "def get_year(time):\n",
    "    time = str(time)\n",
    "    year = time[0:4]\n",
    "    return year\n",
    "\n",
    "def generate_csv():\n",
    "    df = pd.read_csv(\"../data/consolidated_data.csv\") \n",
    "    \n",
    "    #choosing earthquakes and the metric 'ml' wich means \n",
    "    \n",
    "    #The original magnitude relationship defined by Richter and Gutenberg in 1935 for local earthquakes. \n",
    "    #It is based on the maximum amplitude of a seismogram recorded on a Wood-Anderson torsion seismograph. \n",
    "    #Although these instruments are no longer widely in use, ML values are calculated using modern \n",
    "    #instrumentation with appropriate adjustments. Reported by NEIC for all earthquakes in the US and Canada. \n",
    "    #Only authoritative for smaller events, typically M<4.0 for which there is no mb or moment magnitude. \n",
    "    #In the central and eastern United States, NEIC also computes ML, but restricts the distance range to 0-150 km. \n",
    "    #In that area it is only authoritative if there is no mb_Lg as well as no mb or moment magnitude.\n",
    "    \n",
    "    df_data = df[(df.type == 'earthquake') & (df.magType == 'ml')]\n",
    "    df_data = df_data.drop(columns=['Unnamed: 0', 'depth', \n",
    "           'magType', 'nst', 'gap', 'dmin', 'rms', 'net', 'id', 'updated', \n",
    "           'type', 'horizontalError', 'depthError', 'magError', 'magNst', 'status',\n",
    "           'locationSource', 'magSource','place'])\n",
    "    \n",
    "    df_data['year'] = df_data['time'].apply(get_year)\n",
    "    df_data = df_data.drop(columns =['time'])\n",
    "    \n",
    "    df_data.to_csv(\"../data/01.earthquakes_clean_data.csv\")"
   ]
  },
  {
   "cell_type": "code",
   "execution_count": 7,
   "id": "c587b6cf",
   "metadata": {
    "scrolled": true
   },
   "outputs": [
    {
     "name": "stdout",
     "output_type": "stream",
     "text": [
      "CPU times: user 15.8 s, sys: 1.98 s, total: 17.8 s\n",
      "Wall time: 18.3 s\n"
     ]
    }
   ],
   "source": [
    "%%time\n",
    "generate_csv()"
   ]
  }
 ],
 "metadata": {
  "kernelspec": {
   "display_name": "Python 3 (ipykernel)",
   "language": "python",
   "name": "python3"
  },
  "language_info": {
   "codemirror_mode": {
    "name": "ipython",
    "version": 3
   },
   "file_extension": ".py",
   "mimetype": "text/x-python",
   "name": "python",
   "nbconvert_exporter": "python",
   "pygments_lexer": "ipython3",
   "version": "3.9.7"
  }
 },
 "nbformat": 4,
 "nbformat_minor": 5
}
