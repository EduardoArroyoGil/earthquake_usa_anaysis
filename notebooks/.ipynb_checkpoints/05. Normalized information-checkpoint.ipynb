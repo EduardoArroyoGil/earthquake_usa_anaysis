{
 "cells": [
  {
   "cell_type": "code",
   "execution_count": null,
   "id": "e39d43ee",
   "metadata": {
    "scrolled": true
   },
   "outputs": [],
   "source": [
    "import pandas as pd\n",
    "import uuid\n",
    "from math import sin, cos, sqrt, atan2, radians\n",
    "import dask.dataframe as dd\n",
    "\n"
   ]
  },
  {
   "cell_type": "code",
   "execution_count": null,
   "id": "c16acc6f",
   "metadata": {},
   "outputs": [],
   "source": [
    "f_earthquakes_raw = pd.read_csv(\"../data/consolidated_data.csv\") \n",
    "f_gdp_raw = pd.read_csv(\"../data/02.fred_gdp_usa.csv\") \n"
   ]
  },
  {
   "cell_type": "code",
   "execution_count": null,
   "id": "fad6858b",
   "metadata": {},
   "outputs": [],
   "source": [
    "str(uuid.uuid5(uuid.NAMESPACE_DNS, 'python.org'))"
   ]
  },
  {
   "cell_type": "code",
   "execution_count": null,
   "id": "98afc177",
   "metadata": {
    "scrolled": false
   },
   "outputs": [],
   "source": [
    "f_earthquakes_raw.head()"
   ]
  },
  {
   "cell_type": "code",
   "execution_count": null,
   "id": "f2e28ed0",
   "metadata": {},
   "outputs": [],
   "source": [
    "f_earthquakes_raw['id_earthquake']=f_earthquakes_raw.apply(lambda my_data: str(my_data['time'])+str(my_data['latitude'])+str(my_data['longitude']), axis = 1)\n",
    "f_earthquakes_raw['id_earthquake']=f_earthquakes_raw.apply(lambda my_data: str(uuid.uuid5(uuid.NAMESPACE_DNS, my_data['id_earthquake'])), axis = 1)\n",
    "\n"
   ]
  },
  {
   "cell_type": "code",
   "execution_count": null,
   "id": "f0e3b715",
   "metadata": {
    "scrolled": false
   },
   "outputs": [],
   "source": [
    "f_gdp_raw.head()"
   ]
  },
  {
   "cell_type": "code",
   "execution_count": null,
   "id": "0db7614f",
   "metadata": {},
   "outputs": [],
   "source": [
    "f_gdp_raw['id_gdp']=f_gdp_raw.apply(lambda my_data: str(my_data['year'])+str(my_data['latitude'])+str(my_data['longitude']), axis = 1)\n",
    "f_gdp_raw['id_gdp']=f_gdp_raw.apply(lambda my_data: str(uuid.uuid5(uuid.NAMESPACE_DNS, my_data['id_gdp'])), axis = 1)\n",
    "\n"
   ]
  },
  {
   "cell_type": "code",
   "execution_count": 2,
   "id": "23cd82d9",
   "metadata": {},
   "outputs": [],
   "source": [
    "def get_year(time):\n",
    "    time = str(time)\n",
    "    year = time[0:4]\n",
    "    return int(year)\n",
    "\n",
    "def calc_distance_math(lon_cent,lat_cent,lon_obj,lat_obj):\n",
    "    '''\n",
    "    '''\n",
    "    # approximate radius of earth in km\n",
    "    R = 6373.0\n",
    "\n",
    "    lat1 = radians(lat_cent)\n",
    "    lon1 = radians(lon_cent)\n",
    "    lat2 = radians(lat_obj)\n",
    "    lon2 = radians(lon_obj)\n",
    "\n",
    "    dlon = lon2 - lon1\n",
    "    dlat = lat2 - lat1\n",
    "\n",
    "    a = sin(dlat / 2)**2 + cos(lat1) * cos(lat2) * sin(dlon / 2)**2\n",
    "    c = 2 * atan2(sqrt(a), sqrt(1 - a))\n",
    "\n",
    "    distance = R * c\n",
    "    \n",
    "    return distance\n",
    "\n",
    "def generate_final_data(df_eq,df_gdp):\n",
    "    \n",
    "    '''Generates the final data to analyse with the earthquake and gdp data merged in same dataframe'''\n",
    "    \n",
    "    #importing csvs for earthquakes and gdp data\n",
    "    df_eq = df_eq.drop(columns=['Unnamed: 0'])\n",
    "    df_gdp = df_gdp.drop(columns=['Unnamed: 0'])\n",
    "\n",
    "    #renaming columns for both csvs\n",
    "    df_eq = df_eq.rename(columns={\"latitude\": \"latitude_eq\", \"longitude\": \"longitude_eq\"})\n",
    "    df_gdp = df_gdp.rename(columns={\"latitude\": \"latitude_gdp\", \"longitude\": \"longitude_gdp\"})\n",
    "    \n",
    "    #creating column year for df of earthquakes\n",
    "    df_eq['year'] = df_eq['time'].apply(get_year)\n",
    "    \n",
    "    #creating dask dataframes\n",
    "    ddf_eq = dd.from_pandas(df_eq, npartitions=6).set_index('id_earthquake').compute()\n",
    "    ddf_gdp = dd.from_pandas(df_gdp, npartitions=6).set_index('id_gdp').compute()\n",
    "\n",
    "    #merging both data frames: earthquakes and gdps\n",
    "    ddf_merged = dd.merge(ddf_eq, ddf_gdp, how=\"inner\",left_on='year', right_on='year').compute()\n",
    "\n",
    "    #calculation of the distance between the coordinates of each states and each seismic event\n",
    "    ddf_merged['distance']=ddf_merged.apply(lambda my_data: calc_distance_math(my_data['longitude_gdp'],my_data['latitude_gdp'],my_data['longitude_eq'],my_data['latitude_eq']), axis = 1)\n",
    "\n",
    "    #filtering just the events that has a distance less than 600 km\n",
    "    ddf_data = ddf_merged[(ddf_merged.distance <= 600) ]\n",
    "\n",
    "    return ddf_data\n",
    "\n"
   ]
  },
  {
   "cell_type": "code",
   "execution_count": 3,
   "id": "fe2fe50d",
   "metadata": {},
   "outputs": [
    {
     "ename": "NameError",
     "evalue": "name 'f_earthquakes_raw' is not defined",
     "output_type": "error",
     "traceback": [
      "\u001b[0;31m---------------------------------------------------------------------------\u001b[0m",
      "\u001b[0;31mNameError\u001b[0m                                 Traceback (most recent call last)",
      "\u001b[0;32m/var/folders/2_/bnd0fncj143gc6x61sb7k8mc0000gn/T/ipykernel_82808/3883835944.py\u001b[0m in \u001b[0;36m<module>\u001b[0;34m\u001b[0m\n\u001b[0;32m----> 1\u001b[0;31m \u001b[0mlink_earthquake_gdp_raw\u001b[0m \u001b[0;34m=\u001b[0m \u001b[0mgenerate_final_data\u001b[0m\u001b[0;34m(\u001b[0m\u001b[0mf_earthquakes_raw\u001b[0m\u001b[0;34m,\u001b[0m\u001b[0mf_gdp_raw\u001b[0m\u001b[0;34m)\u001b[0m\u001b[0;34m\u001b[0m\u001b[0;34m\u001b[0m\u001b[0m\n\u001b[0m",
      "\u001b[0;31mNameError\u001b[0m: name 'f_earthquakes_raw' is not defined"
     ]
    }
   ],
   "source": [
    "link_earthquake_gdp_raw = generate_final_data(f_earthquakes_raw,f_gdp_raw)"
   ]
  },
  {
   "cell_type": "raw",
   "id": "3f6b8c90",
   "metadata": {},
   "source": [
    "import multiprocessing as mp\n",
    "from pathos.multiprocessing import ProcessingPool as Pool\n",
    "print(\"Number of processors: \", mp.cpu_count())\n",
    "\n",
    "pool = mp.Pool(mp.cpu_count())\n",
    "\n",
    "link_earthquake_gdp_raw = pd.DataFrame()\n",
    "#pool.apply_async(generate_final_data, args=(f_earthquakes_raw,f_gdp_raw), callback=link_earthquake_gdp_raw)\n",
    "\n",
    "pool.close()\n",
    "pool.join()  "
   ]
  }
 ],
 "metadata": {
  "kernelspec": {
   "display_name": "Python 3 (ipykernel)",
   "language": "python",
   "name": "python3"
  },
  "language_info": {
   "codemirror_mode": {
    "name": "ipython",
    "version": 3
   },
   "file_extension": ".py",
   "mimetype": "text/x-python",
   "name": "python",
   "nbconvert_exporter": "python",
   "pygments_lexer": "ipython3",
   "version": "3.9.7"
  }
 },
 "nbformat": 4,
 "nbformat_minor": 5
}
