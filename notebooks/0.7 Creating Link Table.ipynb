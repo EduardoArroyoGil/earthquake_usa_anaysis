{
 "cells": [
  {
   "cell_type": "code",
   "execution_count": 4,
   "id": "345d868f",
   "metadata": {},
   "outputs": [],
   "source": [
    "import pandas as pd\n",
    "from math import sin, cos, sqrt, atan2, radians"
   ]
  },
  {
   "cell_type": "code",
   "execution_count": 5,
   "id": "182a3481",
   "metadata": {},
   "outputs": [],
   "source": [
    "f_earthquakes = pd.read_parquet('../data/extraction_layer/f_earthquakes.parquet', engine='fastparquet')"
   ]
  },
  {
   "cell_type": "code",
   "execution_count": 6,
   "id": "4cba9ff3",
   "metadata": {},
   "outputs": [],
   "source": [
    "f_gdp = pd.read_parquet('../data/extraction_layer/f_gdp.parquet', engine='fastparquet')"
   ]
  },
  {
   "cell_type": "code",
   "execution_count": 7,
   "id": "7c30f7ea",
   "metadata": {},
   "outputs": [],
   "source": [
    "drop_eq_columns = ['id_earthquake', 'time',  'depth', 'mag', 'magType', 'nst', 'gap', 'dmin', 'rms',\n",
    "       'net', 'id', 'place', 'type', 'horizontalError', 'depthError',\n",
    "       'magError', 'magNst', 'status', 'locationSource', 'magSource',\n",
    "       'updated_date']\n",
    "drop_gdp_columns = ['id_gdp', 'gdp', 'state_code',\n",
    "       'state_name']\n",
    "\n",
    "f_earthquakes = f_earthquakes.drop(columns=drop_eq_columns)\n",
    "f_gdp = f_gdp.drop(columns=drop_gdp_columns)"
   ]
  },
  {
   "cell_type": "code",
   "execution_count": 8,
   "id": "fce15651",
   "metadata": {},
   "outputs": [],
   "source": [
    "columns_eq_renaming = {\"year\":\"year_eq\",\"longitude\":\"longitude_eq\",\"latitude\":\"latitude_eq\"}\n",
    "columns_gdp_renaming = {\"year\":\"year_gdp\",\"longitude\":\"longitude_gdp\",\"latitude\":\"latitude_gdp\"}\n",
    "\n",
    "f_earthquakes.rename(columns=columns_eq_renaming ,inplace=True)\n",
    "f_gdp.rename(columns=columns_gdp_renaming ,inplace=True)"
   ]
  },
  {
   "cell_type": "code",
   "execution_count": 9,
   "id": "ad88b72b",
   "metadata": {},
   "outputs": [],
   "source": [
    "f_gdp.drop_duplicates(inplace=True)\n",
    "f_earthquakes.drop_duplicates(inplace=True)"
   ]
  },
  {
   "cell_type": "code",
   "execution_count": 10,
   "id": "f7677472",
   "metadata": {},
   "outputs": [
    {
     "data": {
      "text/plain": [
       "(3176391, 4)"
      ]
     },
     "execution_count": 10,
     "metadata": {},
     "output_type": "execute_result"
    }
   ],
   "source": [
    "f_earthquakes.shape"
   ]
  },
  {
   "cell_type": "code",
   "execution_count": 11,
   "id": "2592dfe3",
   "metadata": {},
   "outputs": [
    {
     "data": {
      "text/plain": [
       "(1250, 4)"
      ]
     },
     "execution_count": 11,
     "metadata": {},
     "output_type": "execute_result"
    }
   ],
   "source": [
    "f_gdp.shape"
   ]
  },
  {
   "cell_type": "code",
   "execution_count": 12,
   "id": "1c5d8078",
   "metadata": {},
   "outputs": [
    {
     "data": {
      "text/plain": [
       "(3176391, 4)"
      ]
     },
     "execution_count": 12,
     "metadata": {},
     "output_type": "execute_result"
    }
   ],
   "source": [
    "f_earthquakes.shape"
   ]
  },
  {
   "cell_type": "code",
   "execution_count": 13,
   "id": "0c4277e8",
   "metadata": {},
   "outputs": [
    {
     "data": {
      "text/plain": [
       "(1250, 4)"
      ]
     },
     "execution_count": 13,
     "metadata": {},
     "output_type": "execute_result"
    }
   ],
   "source": [
    "f_gdp.shape"
   ]
  },
  {
   "cell_type": "code",
   "execution_count": 14,
   "id": "5b78a505",
   "metadata": {},
   "outputs": [],
   "source": [
    "\n",
    "\n",
    "def calc_distance_math(lon_cent,lat_cent,lon_obj,lat_obj):\n",
    "    '''\n",
    "    '''\n",
    "    # approximate radius of earth in km\n",
    "    R = 6373.0\n",
    "\n",
    "    lat1 = radians(lat_cent)\n",
    "    lon1 = radians(lon_cent)\n",
    "    lat2 = radians(lat_obj)\n",
    "    lon2 = radians(lon_obj)\n",
    "\n",
    "    dlon = lon2 - lon1\n",
    "    dlat = lat2 - lat1\n",
    "\n",
    "    a = sin(dlat / 2)**2 + cos(lat1) * cos(lat2) * sin(dlon / 2)**2\n",
    "    c = 2 * atan2(sqrt(a), sqrt(1 - a))\n",
    "\n",
    "    distance = R * c\n",
    "    \n",
    "    return distance"
   ]
  },
  {
   "cell_type": "code",
   "execution_count": 15,
   "id": "1689af1e",
   "metadata": {},
   "outputs": [
    {
     "data": {
      "text/html": [
       "<div>\n",
       "<style scoped>\n",
       "    .dataframe tbody tr th:only-of-type {\n",
       "        vertical-align: middle;\n",
       "    }\n",
       "\n",
       "    .dataframe tbody tr th {\n",
       "        vertical-align: top;\n",
       "    }\n",
       "\n",
       "    .dataframe thead th {\n",
       "        text-align: right;\n",
       "    }\n",
       "</style>\n",
       "<table border=\"1\" class=\"dataframe\">\n",
       "  <thead>\n",
       "    <tr style=\"text-align: right;\">\n",
       "      <th></th>\n",
       "      <th>key_earthquake_gdp</th>\n",
       "      <th>year_eq</th>\n",
       "      <th>latitude_eq</th>\n",
       "      <th>longitude_eq</th>\n",
       "    </tr>\n",
       "  </thead>\n",
       "  <tbody>\n",
       "    <tr>\n",
       "      <th>0</th>\n",
       "      <td>59541ce5-ab80-5658-806e-bab360e4d00b</td>\n",
       "      <td>1970</td>\n",
       "      <td>37.003502</td>\n",
       "      <td>-117.996834</td>\n",
       "    </tr>\n",
       "    <tr>\n",
       "      <th>1</th>\n",
       "      <td>969e1542-110a-5ee1-9a50-43b25711474c</td>\n",
       "      <td>1970</td>\n",
       "      <td>35.642788</td>\n",
       "      <td>-120.933601</td>\n",
       "    </tr>\n",
       "    <tr>\n",
       "      <th>2</th>\n",
       "      <td>64a66f7b-34c1-5a41-9d64-5313e34ddba1</td>\n",
       "      <td>1970</td>\n",
       "      <td>34.164520</td>\n",
       "      <td>-118.185036</td>\n",
       "    </tr>\n",
       "    <tr>\n",
       "      <th>3</th>\n",
       "      <td>d1b3dc1a-58c2-56d8-ac4e-a01008cfea8b</td>\n",
       "      <td>1970</td>\n",
       "      <td>33.836494</td>\n",
       "      <td>-116.781868</td>\n",
       "    </tr>\n",
       "    <tr>\n",
       "      <th>4</th>\n",
       "      <td>c9ac79b8-69f9-5555-a536-2c7c7a3a5daa</td>\n",
       "      <td>1970</td>\n",
       "      <td>33.208477</td>\n",
       "      <td>-115.476997</td>\n",
       "    </tr>\n",
       "  </tbody>\n",
       "</table>\n",
       "</div>"
      ],
      "text/plain": [
       "                     key_earthquake_gdp  year_eq  latitude_eq  longitude_eq\n",
       "0  59541ce5-ab80-5658-806e-bab360e4d00b     1970    37.003502   -117.996834\n",
       "1  969e1542-110a-5ee1-9a50-43b25711474c     1970    35.642788   -120.933601\n",
       "2  64a66f7b-34c1-5a41-9d64-5313e34ddba1     1970    34.164520   -118.185036\n",
       "3  d1b3dc1a-58c2-56d8-ac4e-a01008cfea8b     1970    33.836494   -116.781868\n",
       "4  c9ac79b8-69f9-5555-a536-2c7c7a3a5daa     1970    33.208477   -115.476997"
      ]
     },
     "execution_count": 15,
     "metadata": {},
     "output_type": "execute_result"
    }
   ],
   "source": [
    "f_earthquakes.head(5)"
   ]
  },
  {
   "cell_type": "code",
   "execution_count": 16,
   "id": "00beae98",
   "metadata": {},
   "outputs": [],
   "source": [
    "key_left = ['year_eq']\n",
    "key_right = ['year_gdp']\n",
    "\n",
    "df_merged = pd.merge(f_earthquakes, f_gdp, \n",
    "                          how=\"inner\",\n",
    "                          left_on=key_left, right_on=key_right)"
   ]
  },
  {
   "cell_type": "code",
   "execution_count": null,
   "id": "f0330114",
   "metadata": {},
   "outputs": [],
   "source": [
    "df_merged['distance'] = df_merged.apply(\n",
    "        lambda my_data: calc_distance_math(my_data['longitude_gdp'], my_data['latitude_gdp'], my_data['longitude_eq'],\n",
    "                                           my_data['latitude_eq']), axis=1)"
   ]
  },
  {
   "cell_type": "code",
   "execution_count": 17,
   "id": "e7b099eb",
   "metadata": {
    "scrolled": true
   },
   "outputs": [
    {
     "data": {
      "text/plain": [
       "(110202500, 8)"
      ]
     },
     "execution_count": 17,
     "metadata": {},
     "output_type": "execute_result"
    }
   ],
   "source": [
    "df_merged.shape"
   ]
  },
  {
   "cell_type": "code",
   "execution_count": 18,
   "id": "1375a21c",
   "metadata": {},
   "outputs": [],
   "source": [
    "link = pd.read_parquet('../data/extraction_layer/link_eq_gdp.parquet', engine='fastparquet')"
   ]
  },
  {
   "cell_type": "code",
   "execution_count": 22,
   "id": "ec052281",
   "metadata": {},
   "outputs": [
    {
     "data": {
      "text/plain": [
       "(3600612, 2)"
      ]
     },
     "execution_count": 22,
     "metadata": {},
     "output_type": "execute_result"
    }
   ],
   "source": [
    "link.shape"
   ]
  }
 ],
 "metadata": {
  "kernelspec": {
   "display_name": "Python 3 (ipykernel)",
   "language": "python",
   "name": "python3"
  },
  "language_info": {
   "codemirror_mode": {
    "name": "ipython",
    "version": 3
   },
   "file_extension": ".py",
   "mimetype": "text/x-python",
   "name": "python",
   "nbconvert_exporter": "python",
   "pygments_lexer": "ipython3",
   "version": "3.9.7"
  }
 },
 "nbformat": 4,
 "nbformat_minor": 5
}
