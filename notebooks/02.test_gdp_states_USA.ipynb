{
 "cells": [
  {
   "cell_type": "code",
   "execution_count": 19,
   "id": "f3408ded",
   "metadata": {},
   "outputs": [
    {
     "data": {
      "text/plain": [
       "True"
      ]
     },
     "execution_count": 19,
     "metadata": {},
     "output_type": "execute_result"
    }
   ],
   "source": [
    "import pandas as pd\n",
    "import numpy as np\n",
    "from geopy import geocoders\n",
    "from geopy.geocoders import Nominatim\n",
    "import wbgapi as wb \n",
    "from pandas_profiling import ProfileReport\n",
    "from fredapi import Fred\n",
    "import geopy\n",
    "from geopy.geocoders import Nominatim\n",
    "\n",
    "import requests\n",
    "import re\n",
    "from bs4 import BeautifulSoup\n",
    "\n",
    "import os \n",
    "from dotenv import load_dotenv\n",
    "from pathlib import Path\n",
    "\n",
    "dotenv_path = Path(\"../src/.env\")\n",
    "load_dotenv(dotenv_path=dotenv_path)"
   ]
  },
  {
   "cell_type": "code",
   "execution_count": 132,
   "id": "e21d31ad",
   "metadata": {},
   "outputs": [],
   "source": [
    "def naming(code):\n",
    "    \n",
    "    '''Function that return the name of the code state'''\n",
    "    \n",
    "    states_name_code = {\n",
    "    'AL':'Alabama','AK':'Alaska','AZ':'Arizona','AR':'Arkansas','CA':'California','CO':'Colorado','CT':'Connecticut','DE':'Delaware',\n",
    "    'FL':'Florida','GA':'Georgia','HI':'Hawaii','ID':'Idaho','IL':'Illinois','IN':'Indiana','IA':'Iowa','KS':'Kansas','KY':'Kentucky','LA':'Louisiana',\n",
    "    'ME':'Maine','MD':'Maryland','MA':'Massachusetts','MI':'Michigan','MN':'Minnesota','MS':'Mississippi','MO':'Missouri','MT':'Montana','NE':'Nebraska','NV':'Nevada',\n",
    "    'NH':'New Hampshire','NJ':'New Jersey','NM':'New Mexico','NY':'New York','NC':'North Carolina','ND':'North Dakota','OH':'Ohio','OK':'Oklahoma','OR':'Oregon','PA':'Pennsylvania',\n",
    "    'RI':'Rhode Island','SC':'South Carolina','SD':'South Dakota','TN':'Tennessee','TX':'Texas','UT':'Utah','VT':'Vermont','VA':'Virginia','WA':'Washington','WV':'West Virginia',\n",
    "    'WI':'Wisconsin','WY':'Wyoming'\n",
    "    }\n",
    "    \n",
    "    name = states_name_code[code]\n",
    "    return name\n",
    "\n",
    "def get_lat(city):\n",
    "    \n",
    "    '''Function that calculates the latitude of a state'''\n",
    "    \n",
    "    geolocator = Nominatim(user_agent=\"data-analyst-ironhack\")\n",
    "    country =\"United States\"\n",
    "    loc = geolocator.geocode(city+','+ country)\n",
    "    return loc.latitude\n",
    "\n",
    "def get_lon(city):\n",
    "    \n",
    "    '''Function that calculates the longitude of a state'''\n",
    "    \n",
    "    geolocator = Nominatim(user_agent=\"data-analyst-ironhack\")\n",
    "    country =\"United States\"\n",
    "    loc = geolocator.geocode(city+','+ country)\n",
    "    return loc.longitude\n",
    "\n",
    "def get_year(time):\n",
    "    \n",
    "    '''Function that calculates the year of a date'''\n",
    "    \n",
    "    time = str(time)\n",
    "    year = time[0:4]\n",
    "    return year\n",
    "\n",
    "def get_coordinates(states_name_code):\n",
    "    \n",
    "    '''Function that creates a dictionary with the coordinates for each state'''\n",
    "    \n",
    "    coordinates = {}\n",
    "    for i in states_name_code.values():\n",
    "        my_value = {str(i):{'lon': get_lon(i), 'lat' :get_lat(i)}}\n",
    "        coordinates.update(my_value)\n",
    "    return coordinates\n",
    "\n",
    "def generate_gdp_state():\n",
    "    \n",
    "    '''Function that generates gdp data and save it into a csv file'''\n",
    "    \n",
    "    token = os.getenv(\"FRED_APIKEY\")\n",
    "    #red apy key\n",
    "    fred = Fred(api_key=token)\n",
    "    \n",
    "    #states code for get the metric of GDP for each state by web scrapping\n",
    "    \n",
    "    url = 'https://www.stateabbreviations.us/'\n",
    "    \n",
    "    html = requests.get(url)\n",
    "    soup = BeautifulSoup(html.content, \"html.parser\")\n",
    "    \n",
    "    codes = soup.find_all(\"table\", {\"class\": \"f\"})\n",
    "    \n",
    "    patron = '[A-Z]{2}'\n",
    "    states_code = re.findall(patron, codes[0].getText())\n",
    "    states_code.remove('US')\n",
    "    states_code.sort()\n",
    "    \n",
    "    #name of the GDP metric in fred api\n",
    "    metric = 'NGSP'\n",
    "    \n",
    "    #dictionary with the state name for each code state\n",
    "    states_name_code = {\n",
    "        'AL':'Alabama','AK':'Alaska','AZ':'Arizona','AR':'Arkansas','CA':'California','CO':'Colorado','CT':'Connecticut','DE':'Delaware',\n",
    "        'FL':'Florida','GA':'Georgia','HI':'Hawaii','ID':'Idaho','IL':'Illinois','IN':'Indiana','IA':'Iowa','KS':'Kansas','KY':'Kentucky','LA':'Louisiana',\n",
    "        'ME':'Maine','MD':'Maryland','MA':'Massachusetts','MI':'Michigan','MN':'Minnesota','MS':'Mississippi','MO':'Missouri','MT':'Montana','NE':'Nebraska','NV':'Nevada',\n",
    "        'NH':'New Hampshire','NJ':'New Jersey','NM':'New Mexico','NY':'New York','NC':'North Carolina','ND':'North Dakota','OH':'Ohio','OK':'Oklahoma','OR':'Oregon','PA':'Pennsylvania',\n",
    "        'RI':'Rhode Island','SC':'South Carolina','SD':'South Dakota','TN':'Tennessee','TX':'Texas','UT':'Utah','VT':'Vermont','VA':'Virginia','WA':'Washington','WV':'West Virginia',\n",
    "        'WI':'Wisconsin','WY':'Wyoming'\n",
    "        }\n",
    "    \n",
    "    #calculates the coordinates for each state\n",
    "    states_name_coord = get_coordinates(states_name_code)\n",
    "    \n",
    "    #calculates the dataframe with the gdp data for each state by date\n",
    "    data = pd.DataFrame()\n",
    "    for i in states_code:\n",
    "        data_st = pd.DataFrame()\n",
    "        data_st = pd.DataFrame(fred.get_series_latest_release(i+metric))\n",
    "        data_st = data_st.reset_index()\n",
    "        data_st = data_st.rename(columns={\"index\": \"year\", 0: \"gdp\"})\n",
    "        data_st['state_code'] = i\n",
    "        data = pd.concat([data,data_st])\n",
    "    \n",
    "    #calculating state name field\n",
    "    data['state_name']=data['state_code'].apply(naming)\n",
    "    #calculating longitude\n",
    "    data['longitude']=data.apply(lambda my_data: states_name_coord[my_data['state_name']]['lon'], axis = 1)\n",
    "    #calculating latitude\n",
    "    data['latitude']=data.apply(lambda my_data: states_name_coord[my_data['state_name']]['lat'], axis = 1)\n",
    "    #calculating year\n",
    "    data['year']=data['year'].apply(get_year)\n",
    "    \n",
    "    \n",
    "    #saving data into csv file\n",
    "    data.to_csv(\"../data/02.fred_gdp_usa.csv\")\n",
    "\n"
   ]
  },
  {
   "cell_type": "code",
   "execution_count": 128,
   "id": "8dddc99d",
   "metadata": {},
   "outputs": [
    {
     "name": "stdout",
     "output_type": "stream",
     "text": [
      "CPU times: user 2.53 s, sys: 229 ms, total: 2.76 s\n",
      "Wall time: 1min 19s\n"
     ]
    }
   ],
   "source": [
    "%%time\n",
    "generate_gdp_state()"
   ]
  },
  {
   "cell_type": "code",
   "execution_count": 39,
   "id": "7cd13610",
   "metadata": {},
   "outputs": [],
   "source": [
    "import requests\n",
    "import re\n",
    "from bs4 import BeautifulSoup"
   ]
  },
  {
   "cell_type": "code",
   "execution_count": 28,
   "id": "bae4fa3c",
   "metadata": {},
   "outputs": [],
   "source": [
    "url = 'https://www.stateabbreviations.us/'"
   ]
  },
  {
   "cell_type": "code",
   "execution_count": 37,
   "id": "1d09b0ac",
   "metadata": {},
   "outputs": [],
   "source": [
    "#your code\n",
    "html = requests.get(url)\n",
    "soup = BeautifulSoup(html.content, \"html.parser\")"
   ]
  },
  {
   "cell_type": "code",
   "execution_count": 129,
   "id": "bdb1fad6",
   "metadata": {},
   "outputs": [],
   "source": [
    "codes = soup.find_all(\"table\", {\"class\": \"f\"})\n",
    "patron = '[A-Z]{2}'\n",
    "states_code = re.findall(patron, codes[0].getText())\n",
    "states_code.remove('US')\n",
    "states_code.sort()"
   ]
  },
  {
   "cell_type": "code",
   "execution_count": 133,
   "id": "3fb78e4c",
   "metadata": {},
   "outputs": [
    {
     "data": {
      "text/plain": [
       "'\\n\\n\\n\\n\\nUS States, Capitals, and Government Links\\nStateStandardAbbreviationPostalAbbr.Capital City\\nAlabama Ala.ALMontgomery\\nAlaska AlaskaAKJuneau\\nArizona Ariz.AZPhoenix\\nArkansas Ark.ARLittle Rock\\nCalifornia Calif.CASacramento\\nColorado Colo.CODenver\\nConnecticut Conn.CTHartford\\nDelaware Del.DEDover\\nFlorida Fla.FLTallahassee\\nGeorgia Ga.GAAtlanta\\nHawaii HawaiiHIHonolulu\\nIdaho IdahoIDBoise\\nIllinois Ill.ILSpringfield\\nIndiana Ind.INIndianapolis\\nIowa IowaIADes Moines\\nKansas Kans.KSTopeka\\nKentucky Ky.KYFrankfort\\nLouisiana La.LABaton Rouge\\nMaine MaineMEAugusta\\nMaryland Md.MDAnnapolis\\nMassachusetts Mass.MABoston\\nMichigan Mich.MILansing\\nMinnesota Minn.MNSt. Paul\\nMississippi Miss.MSJackson\\nMissouri Mo.MOJefferson City\\nMontana Mont.MTHelena\\nNebraska Nebr.NELincoln\\nNevada Nev.NVCarson City\\nNew Hampshire N.H.NHConcord\\nNew Jersey N.J.NJTrenton\\nNew Mexico N.M.NMSanta Fe\\nNew York N.Y.NYAlbany\\nNorth Carolina N.C.NCRaleigh\\nNorth Dakota N.D.NDBismarck\\nOhio OhioOHColumbus\\nOklahoma Okla.OKOklahoma City\\nOregon Ore.ORSalem\\nPennsylvania Pa.PAHarrisburg\\nRhode Island R.I.RIProvidence\\nSouth Carolina S.C.SCColumbia\\nSouth Dakota S.D.SDPierre\\nTennessee Tenn.TNNashville\\nTexas Tex.TXAustin\\nUtah UtahUTSalt Lake City\\nVermont Vt.VTMontpelier\\nVirginia Va.VARichmond\\nWashington Wash.WAOlympia\\nWest Virginia W.Va.WVCharleston\\nWisconsin Wis.WIMadison\\nWyoming Wyo.WYCheyenne\\n'"
      ]
     },
     "execution_count": 133,
     "metadata": {},
     "output_type": "execute_result"
    }
   ],
   "source": [
    "codes[0].getText()"
   ]
  },
  {
   "cell_type": "code",
   "execution_count": 162,
   "id": "4f5c31e4",
   "metadata": {},
   "outputs": [
    {
     "name": "stdout",
     "output_type": "stream",
     "text": [
      "49\n",
      "['City\\nAlabama Ala.ALM', 'ontgomery\\nAlaska AlaskaAKJ', 'uneau\\nArizona Ariz.AZP', 'hoenix\\nArkansas Ark.ARL', 'Rock\\nCalifornia Calif.CAS', 'acramento\\nColorado Colo.COD', 'enver\\nConnecticut Conn.CTH', 'artford\\nDelaware Del.DED', 'over\\nFlorida Fla.FLT', 'allahassee\\nGeorgia Ga.GAA', 'tlanta\\nHawaii HawaiiHIH', 'onolulu\\nIdaho IdahoIDB', 'oise\\nIllinois Ill.ILS', 'pringfield\\nIndiana Ind.INI', 'ndianapolis\\nIowa IowaIAD', 'Moines\\nKansas Kans.KST', 'opeka\\nKentucky Ky.KYF', 'rankfort\\nLouisiana La.LAB', 'Rouge\\nMaine MaineMEA', 'ugusta\\nMaryland Md.MDA', 'nnapolis\\nMassachusetts Mass.MAB', 'oston\\nMichigan Mich.MIL', 'ansing\\nMinnesota Minn.MNS', 'Paul\\nMississippi Miss.MSJ', 'ackson\\nMissouri Mo.MOJ', 'City\\nMontana Mont.MTH', 'elena\\nNebraska Nebr.NEL', 'incoln\\nNevada Nev.NVC', 'New Hampshire N.H.NH', 'New Jersey N.J.NJ', 'New Mexico N.M.NM', 'New York N.Y.NY', 'North Carolina N.C.NC', 'North Dakota N.D.ND', 'Bismarck\\nOhio OhioOHC', 'olumbus\\nOklahoma Okla.OKO', 'City\\nOregon Ore.ORS', 'alem\\nPennsylvania Pa.PAH', 'Rhode Island R.I.RI', 'South Carolina S.C.SC', 'South Dakota S.D.SD', 'Pierre\\nTennessee Tenn.TNN', 'ashville\\nTexas Tex.TXA', 'ustin\\nUtah UtahUTS', 'City\\nVermont Vt.VTM', 'ontpelier\\nVirginia Va.VAR', 'ichmond\\nWashington Wash.WAO', 'WVCharleston\\nWisconsin Wis.WIM', 'adison\\nWyoming Wyo.WYC']\n"
     ]
    }
   ],
   "source": [
    "patron = '\\w*\\s?[A-Z]{1}\\w+\\s\\w+\\.?[A-Z]{1}?\\.?[A-Z]{2}'\n",
    "names = re.findall(patron, codes[0].getText())\n",
    "print(len(names))\n",
    "print(names)"
   ]
  },
  {
   "cell_type": "code",
   "execution_count": 177,
   "id": "44adc951",
   "metadata": {},
   "outputs": [
    {
     "data": {
      "text/plain": [
       "[\"['AL']\",\n",
       " \"['AK']\",\n",
       " \"['AZ']\",\n",
       " \"['AR']\",\n",
       " \"['CA']\",\n",
       " \"['CO']\",\n",
       " \"['CT']\",\n",
       " \"['DE']\",\n",
       " \"['FL']\",\n",
       " \"['GA']\",\n",
       " \"['HI']\",\n",
       " \"['ID']\",\n",
       " \"['IL']\",\n",
       " \"['IN']\",\n",
       " \"['IA']\",\n",
       " \"['KS']\",\n",
       " \"['KY']\",\n",
       " \"['LA']\",\n",
       " \"['ME']\",\n",
       " \"['MD']\",\n",
       " \"['MA']\",\n",
       " \"['MI']\",\n",
       " \"['MN']\",\n",
       " \"['MS']\",\n",
       " \"['MO']\",\n",
       " \"['MT']\",\n",
       " \"['NE']\",\n",
       " \"['NV']\",\n",
       " \"['NH']\",\n",
       " \"['NJ']\",\n",
       " \"['NM']\",\n",
       " \"['NY']\",\n",
       " \"['NC']\",\n",
       " \"['ND']\",\n",
       " \"['OH']\",\n",
       " \"['OK']\",\n",
       " \"['OR']\",\n",
       " \"['PA']\",\n",
       " \"['RI']\",\n",
       " \"['SC']\",\n",
       " \"['SD']\",\n",
       " \"['TN']\",\n",
       " \"['TX']\",\n",
       " \"['UT']\",\n",
       " \"['VT']\",\n",
       " \"['VA']\",\n",
       " \"['WA']\",\n",
       " \"['WV', 'WI']\",\n",
       " \"['WY']\"]"
      ]
     },
     "execution_count": 177,
     "metadata": {},
     "output_type": "execute_result"
    }
   ],
   "source": [
    "patron = '[A-Z]{2}'\n",
    "names_2 = names\n",
    "codes = list()\n",
    "for i in names_2:\n",
    "    codes.append(str(re.findall(patron, i)))\n",
    "    \n",
    "codes"
   ]
  }
 ],
 "metadata": {
  "kernelspec": {
   "display_name": "Python 3 (ipykernel)",
   "language": "python",
   "name": "python3"
  },
  "language_info": {
   "codemirror_mode": {
    "name": "ipython",
    "version": 3
   },
   "file_extension": ".py",
   "mimetype": "text/x-python",
   "name": "python",
   "nbconvert_exporter": "python",
   "pygments_lexer": "ipython3",
   "version": "3.9.7"
  }
 },
 "nbformat": 4,
 "nbformat_minor": 5
}
