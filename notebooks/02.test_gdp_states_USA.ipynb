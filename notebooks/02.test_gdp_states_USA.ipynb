{
 "cells": [
  {
   "cell_type": "code",
   "execution_count": 19,
   "id": "f3408ded",
   "metadata": {},
   "outputs": [
    {
     "data": {
      "text/plain": [
       "True"
      ]
     },
     "execution_count": 19,
     "metadata": {},
     "output_type": "execute_result"
    }
   ],
   "source": [
    "import pandas as pd\n",
    "import numpy as np\n",
    "from geopy import geocoders\n",
    "from geopy.geocoders import Nominatim\n",
    "import wbgapi as wb \n",
    "from pandas_profiling import ProfileReport\n",
    "from fredapi import Fred\n",
    "import geopy\n",
    "from geopy.geocoders import Nominatim\n",
    "\n",
    "\n",
    "import os \n",
    "from dotenv import load_dotenv\n",
    "from pathlib import Path\n",
    "\n",
    "dotenv_path = Path(\"../src/.env\")\n",
    "load_dotenv(dotenv_path=dotenv_path)"
   ]
  },
  {
   "cell_type": "code",
   "execution_count": 23,
   "id": "e21d31ad",
   "metadata": {},
   "outputs": [],
   "source": [
    "def naming(code):\n",
    "    \n",
    "    '''Function that return the name of the code state'''\n",
    "    \n",
    "    states_name_code = {\n",
    "    'AL':'Alabama','AK':'Alaska','AZ':'Arizona','AR':'Arkansas','CA':'California','CO':'Colorado','CT':'Connecticut','DE':'Delaware',\n",
    "    'FL':'Florida','GA':'Georgia','HI':'Hawaii','ID':'Idaho','IL':'Illinois','IN':'Indiana','IA':'Iowa','KS':'Kansas','KY':'Kentucky','LA':'Louisiana',\n",
    "    'ME':'Maine','MD':'Maryland','MA':'Massachusetts','MI':'Michigan','MN':'Minnesota','MS':'Mississippi','MO':'Missouri','MT':'Montana','NE':'Nebraska','NV':'Nevada',\n",
    "    'NH':'New Hampshire','NJ':'New Jersey','NM':'New Mexico','NY':'New York','NC':'North Carolina','ND':'North Dakota','OH':'Ohio','OK':'Oklahoma','OR':'Oregon','PA':'Pennsylvania',\n",
    "    'RI':'Rhode Island','SC':'South Carolina','SD':'South Dakota','TN':'Tennessee','TX':'Texas','UT':'Utah','VT':'Vermont','VA':'Virginia','WA':'Washington','WV':'West Virginia',\n",
    "    'WI':'Wisconsin','WY':'Wyoming'\n",
    "    }\n",
    "    \n",
    "    name = states_name_code[code]\n",
    "    return name\n",
    "\n",
    "def get_lat(city):\n",
    "    \n",
    "    '''Function that calculates the latitude of a state'''\n",
    "    \n",
    "    geolocator = Nominatim(user_agent=\"data-analyst-ironhack\")\n",
    "    country =\"United States\"\n",
    "    loc = geolocator.geocode(city+','+ country)\n",
    "    return loc.latitude\n",
    "\n",
    "def get_lon(city):\n",
    "    \n",
    "    '''Function that calculates the longitude of a state'''\n",
    "    \n",
    "    geolocator = Nominatim(user_agent=\"data-analyst-ironhack\")\n",
    "    country =\"United States\"\n",
    "    loc = geolocator.geocode(city+','+ country)\n",
    "    return loc.longitude\n",
    "\n",
    "def get_year(time):\n",
    "    \n",
    "    '''Function that calculates the year of a date'''\n",
    "    \n",
    "    time = str(time)\n",
    "    year = time[0:4]\n",
    "    return year\n",
    "\n",
    "def get_coordinates(states_name_code):\n",
    "    \n",
    "    '''Function that creates a dictionary with the coordinates for each state'''\n",
    "    \n",
    "    coordinates = {}\n",
    "    for i in states_name_code.values():\n",
    "        my_value = {str(i):{'lon': get_lon(i), 'lat' :get_lat(i)}}\n",
    "        coordinates.update(my_value)\n",
    "    return coordinates\n",
    "\n",
    "def generate_gdp_state():\n",
    "    \n",
    "    '''Function that generates gdp data and save it into a csv file'''\n",
    "    \n",
    "    token = os.getenv(\"FRED_APIKEY\")\n",
    "    #red apy key\n",
    "    fred = Fred(api_key=token)\n",
    "    \n",
    "    #states code for get the metric of GDP for each state\n",
    "    states_code = ['AL','AK','AZ','AR','CA','CO','CT','DE',\n",
    "    'FL','GA','HI','ID','IL','IN','IA','KS','KY','LA',\n",
    "    'ME','MD','MA','MI','MN','MS','MO','MT','NE','NV',\n",
    "    'NH','NJ','NM','NY','NC','ND','OH','OK','OR','PA',\n",
    "    'RI','SC','SD','TN','TX','UT','VT','VA','WA','WV',\n",
    "    'WI','WY']\n",
    "    \n",
    "    #name of the GDP metric in fred api\n",
    "    metric = 'NGSP'\n",
    "    \n",
    "    #dictionary with the state name for each code state\n",
    "    states_name_code = {\n",
    "        'AL':'Alabama','AK':'Alaska','AZ':'Arizona','AR':'Arkansas','CA':'California','CO':'Colorado','CT':'Connecticut','DE':'Delaware',\n",
    "        'FL':'Florida','GA':'Georgia','HI':'Hawaii','ID':'Idaho','IL':'Illinois','IN':'Indiana','IA':'Iowa','KS':'Kansas','KY':'Kentucky','LA':'Louisiana',\n",
    "        'ME':'Maine','MD':'Maryland','MA':'Massachusetts','MI':'Michigan','MN':'Minnesota','MS':'Mississippi','MO':'Missouri','MT':'Montana','NE':'Nebraska','NV':'Nevada',\n",
    "        'NH':'New Hampshire','NJ':'New Jersey','NM':'New Mexico','NY':'New York','NC':'North Carolina','ND':'North Dakota','OH':'Ohio','OK':'Oklahoma','OR':'Oregon','PA':'Pennsylvania',\n",
    "        'RI':'Rhode Island','SC':'South Carolina','SD':'South Dakota','TN':'Tennessee','TX':'Texas','UT':'Utah','VT':'Vermont','VA':'Virginia','WA':'Washington','WV':'West Virginia',\n",
    "        'WI':'Wisconsin','WY':'Wyoming'\n",
    "        }\n",
    "    \n",
    "    #calculates the coordinates for each state\n",
    "    states_name_coord = get_coordinates(states_name_code)\n",
    "    \n",
    "    #calculates the dataframe with the gdp data for each state by date\n",
    "    data = pd.DataFrame()\n",
    "    for i in states_code:\n",
    "        data_st = pd.DataFrame()\n",
    "        data_st = pd.DataFrame(fred.get_series_latest_release(i+metric))\n",
    "        data_st = data_st.reset_index()\n",
    "        data_st = data_st.rename(columns={\"index\": \"year\", 0: \"gdp\"})\n",
    "        data_st['state_code'] = i\n",
    "        data = pd.concat([data,data_st])\n",
    "    \n",
    "    #calculating state name field\n",
    "    data['state_name']=data['state_code'].apply(naming)\n",
    "    #calculating longitude\n",
    "    data['longitude']=data.apply(lambda my_data: states_name_coord[my_data['state_name']]['lon'], axis = 1)\n",
    "    #calculating latitude\n",
    "    data['latitude']=data.apply(lambda my_data: states_name_coord[my_data['state_name']]['lat'], axis = 1)\n",
    "    #calculating year\n",
    "    data['year']=data['year'].apply(get_year)\n",
    "    \n",
    "    \n",
    "    #saving data into csv file\n",
    "    data.to_csv(\"../data/02.fred_gdp_usa.csv\")\n",
    "\n"
   ]
  },
  {
   "cell_type": "code",
   "execution_count": 24,
   "id": "8dddc99d",
   "metadata": {},
   "outputs": [
    {
     "name": "stdout",
     "output_type": "stream",
     "text": [
      "CPU times: user 2.26 s, sys: 196 ms, total: 2.46 s\n",
      "Wall time: 1min 20s\n"
     ]
    }
   ],
   "source": [
    "%%time\n",
    "generate_gdp_state()"
   ]
  }
 ],
 "metadata": {
  "kernelspec": {
   "display_name": "Python 3 (ipykernel)",
   "language": "python",
   "name": "python3"
  },
  "language_info": {
   "codemirror_mode": {
    "name": "ipython",
    "version": 3
   },
   "file_extension": ".py",
   "mimetype": "text/x-python",
   "name": "python",
   "nbconvert_exporter": "python",
   "pygments_lexer": "ipython3",
   "version": "3.9.7"
  }
 },
 "nbformat": 4,
 "nbformat_minor": 5
}
