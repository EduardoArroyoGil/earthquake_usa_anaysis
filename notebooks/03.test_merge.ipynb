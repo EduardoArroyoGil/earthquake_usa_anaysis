{
 "cells": [
  {
   "cell_type": "code",
   "execution_count": 1,
   "id": "c76eb938",
   "metadata": {},
   "outputs": [],
   "source": [
    "import pandas as pd\n",
    "import geopy.distance\n",
    "from math import sin, cos, sqrt, atan2, radians\n",
    "\n",
    "def calc_distance(x_cent,y_cent,x_obj,y_obj):\n",
    "    '''This fucntion calculates the distance between two points in 2D\n",
    "    '''\n",
    "    x_diff = x_cent - x_obj\n",
    "    y_diff = y_cent - y_obj\n",
    "    \n",
    "    distance_sqrt = x_diff**2 + y_diff**2\n",
    "    distance = distance_sqrt**(0.5)\n",
    "    \n",
    "    return distance\n",
    "\n",
    "def calc_distance_geopy(x_cent,y_cent,x_obj,y_obj):\n",
    "    '''This fucntion calculates the distance between two points using geopy\n",
    "    '''\n",
    "    coords_1 = (x_cent, y_cent)\n",
    "    coords_2 = (x_obj, y_obj)\n",
    "    return geopy.distance.vincenty(coords_1, coords_2).km\n",
    "\n",
    "def calc_distance_math(lon_cent,lat_cent,lon_obj,lat_obj):\n",
    "    '''\n",
    "    '''\n",
    "    # approximate radius of earth in km\n",
    "    R = 6373.0\n",
    "\n",
    "    lat1 = radians(lat_cent)\n",
    "    lon1 = radians(lon_cent)\n",
    "    lat2 = radians(lat_obj)\n",
    "    lon2 = radians(lon_obj)\n",
    "\n",
    "    dlon = lon2 - lon1\n",
    "    dlat = lat2 - lat1\n",
    "\n",
    "    a = sin(dlat / 2)**2 + cos(lat1) * cos(lat2) * sin(dlon / 2)**2\n",
    "    c = 2 * atan2(sqrt(a), sqrt(1 - a))\n",
    "\n",
    "    distance = R * c\n",
    "    \n",
    "    return distance\n",
    "\n",
    "def generate_final_data():\n",
    "    \n",
    "    '''Generates the final data to analyse with the earthquake and gdp data merged in same dataframe'''\n",
    "    \n",
    "    #importing csvs for earthquakes and gdp data\n",
    "    df_eq = pd.read_csv(\"../data/01.earthquakes_clean_data.csv\").drop(columns=['Unnamed: 0'])\n",
    "    df_gdp = pd.read_csv(\"../data/02.fred_gdp_usa.csv\").drop(columns=['Unnamed: 0'])\n",
    "\n",
    "    #renaming columns for both csvs\n",
    "    df_eq = df_eq.rename(columns={\"latitude\": \"latitude_eq\", \"longitude\": \"longitude_eq\"})\n",
    "    df_gdp = df_gdp.rename(columns={\"latitude\": \"latitude_gdp\", \"longitude\": \"longitude_gdp\"})\n",
    "\n",
    "    #merging both data frames: earthquakes and gdps\n",
    "    df_merged = pd.merge(df_eq, df_gdp, how=\"inner\",left_on='year', right_on='year')\n",
    "\n",
    "    #calculation of the distance between the coordinates of each states and each seismic event\n",
    "    df_merged['distance']=df_merged.apply(lambda my_data: calc_distance_math(my_data['longitude_gdp'],my_data['latitude_gdp'],my_data['longitude_eq'],my_data['latitude_eq']), axis = 1)\n",
    "\n",
    "    #filtering just the events that has a distance less than 600 km\n",
    "    df_data = df_merged[(df_merged.distance <= 600) ]\n",
    "\n",
    "    #saving data into a csv file\n",
    "    df_data.to_csv(\"../data/03.df_data_mag_gdp.csv\")\n",
    "\n"
   ]
  },
  {
   "cell_type": "code",
   "execution_count": 2,
   "id": "d95ff233",
   "metadata": {},
   "outputs": [
    {
     "name": "stdout",
     "output_type": "stream",
     "text": [
      "CPU times: user 13min 53s, sys: 1min 39s, total: 15min 32s\n",
      "Wall time: 16min 38s\n"
     ]
    }
   ],
   "source": [
    "%%time\n",
    "generate_final_data()"
   ]
  }
 ],
 "metadata": {
  "kernelspec": {
   "display_name": "Python 3 (ipykernel)",
   "language": "python",
   "name": "python3"
  },
  "language_info": {
   "codemirror_mode": {
    "name": "ipython",
    "version": 3
   },
   "file_extension": ".py",
   "mimetype": "text/x-python",
   "name": "python",
   "nbconvert_exporter": "python",
   "pygments_lexer": "ipython3",
   "version": "3.9.7"
  }
 },
 "nbformat": 4,
 "nbformat_minor": 5
}
