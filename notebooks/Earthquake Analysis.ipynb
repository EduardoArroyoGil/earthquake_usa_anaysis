{
 "cells": [
  {
   "cell_type": "markdown",
   "id": "8d562888",
   "metadata": {},
   "source": [
    "# Earthquake Analysis"
   ]
  },
  {
   "cell_type": "markdown",
   "id": "61f256b2",
   "metadata": {},
   "source": [
    "Firstly importing sys library and running the process (main.py)"
   ]
  },
  {
   "cell_type": "code",
   "execution_count": null,
   "id": "ab7205f3",
   "metadata": {},
   "outputs": [],
   "source": [
    "import sys  "
   ]
  },
  {
   "cell_type": "code",
   "execution_count": null,
   "id": "2a125ae3",
   "metadata": {},
   "outputs": [],
   "source": [
    "sys.path.insert(0, '../src/')\n",
    "\n",
    "import main"
   ]
  },
  {
   "cell_type": "markdown",
   "id": "02c2f403",
   "metadata": {},
   "source": [
    "The log of the process is:"
   ]
  },
  {
   "cell_type": "code",
   "execution_count": 1,
   "id": "315731dc",
   "metadata": {},
   "outputs": [
    {
     "name": "stdout",
     "output_type": "stream",
     "text": [
      "START MAIN PROCEDURE\n",
      "\n",
      "Start generate_csv.py\n",
      "     --> Start reading consolidated_data.csv...\n",
      "     ...Finish reading consolidated_data.csv (duration: 0.2 min) -->\n",
      "\n",
      "     --> Start transformation...\n",
      "     ...Finish transformation (duration: 0.02 min) -->\n",
      "\n",
      "     --> Start saving 01.earthquakes_clean_data.csv...\n",
      "     ...Finish saving 01.earthquakes_clean_data.csv (duration: 0.07 min) -->\n",
      "\n",
      "Finish generate_csv.py (total duration: 0.3 min)\n",
      "\n",
      "Start generate_gdp_state.py\n",
      "     --> Start setting API key...\n",
      "     ...Finish setting API key (duration: 0.0 min) -->\n",
      "\n",
      "     --> Start getting coordinates...\n",
      "     ...Finish getting coordinates (duration: 0.02 min) -->\n",
      "\n",
      "     --> Start calculate dataframe with gdp data...\n",
      "     ...Finish calculate dataframe with gdp data (duration: 0.01 min) -->\n",
      "\n",
      "     --> Start saving 02.fred_gdp_usa.csv...\n",
      "     ...Finish saving 02.fred_gdp_usa.csv (duration: 0.0 min) -->\n",
      "\n",
      "Finish generate_gdp_state.py (total duration: 0.03 min)\n",
      "\n",
      "Start analysis.py\n",
      "     --> Start Reading the final processed data...\n",
      "     ...Finish Reading the final processed data (duration: 0.03 min) -->\n",
      "\n",
      "     --> Start generation of graphs for each state of USA...\n",
      "\n"
     ]
    }
   ],
   "source": [
    "f = open('../src/log_main_earthquake_vs_gdp.txt', 'r')\n",
    "file_contents = f.read()\n",
    "print (file_contents)\n",
    "f.close()"
   ]
  },
  {
   "cell_type": "code",
   "execution_count": null,
   "id": "813ebbf6",
   "metadata": {},
   "outputs": [],
   "source": []
  }
 ],
 "metadata": {
  "kernelspec": {
   "display_name": "Python 3 (ipykernel)",
   "language": "python",
   "name": "python3"
  },
  "language_info": {
   "codemirror_mode": {
    "name": "ipython",
    "version": 3
   },
   "file_extension": ".py",
   "mimetype": "text/x-python",
   "name": "python",
   "nbconvert_exporter": "python",
   "pygments_lexer": "ipython3",
   "version": "3.9.7"
  }
 },
 "nbformat": 4,
 "nbformat_minor": 5
}
