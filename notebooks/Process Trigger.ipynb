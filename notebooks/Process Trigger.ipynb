{
 "cells": [
  {
   "cell_type": "markdown",
   "id": "a9e7ffb4",
   "metadata": {},
   "source": [
    "# Process Trigger"
   ]
  },
  {
   "cell_type": "markdown",
   "id": "3c3f7c39",
   "metadata": {},
   "source": [
    "This jupyter notebook is for launch the whole process and check how it has been running reading the log.\n",
    "###### Firstly importing sys library and running the process (main.py)"
   ]
  },
  {
   "cell_type": "code",
   "execution_count": 1,
   "id": "4b8808f4",
   "metadata": {},
   "outputs": [],
   "source": [
    "import sys  "
   ]
  },
  {
   "cell_type": "markdown",
   "id": "76d5a811",
   "metadata": {},
   "source": [
    "###### main.py Launch\n",
    "Nex step is to launch the process calling the \"main.py\" file"
   ]
  },
  {
   "cell_type": "code",
   "execution_count": null,
   "id": "280ee40d",
   "metadata": {},
   "outputs": [],
   "source": [
    "sys.path.insert(0, '../src/')\n",
    "\n",
    "import main"
   ]
  },
  {
   "cell_type": "markdown",
   "id": "fd24d13e",
   "metadata": {},
   "source": [
    "###### Log of the Main Process:\n",
    "\n",
    "where is registerd each part of the process and each step for module (with the time it takes):"
   ]
  },
  {
   "cell_type": "code",
   "execution_count": 3,
   "id": "e5830491",
   "metadata": {},
   "outputs": [
    {
     "name": "stdout",
     "output_type": "stream",
     "text": [
      "START MAIN PROCEDURE\n",
      "\n",
      "Start generate_csv.py\n",
      "     --> Start reading consolidated_data.csv...\n",
      "     ...Finish reading consolidated_data.csv (duration: 0.19 min) -->\n",
      "\n",
      "     --> Start transformation...\n",
      "     ...Finish transformation (duration: 0.02 min) -->\n",
      "\n",
      "     --> Start saving 01.earthquakes_clean_data.csv...\n",
      "     ...Finish saving 01.earthquakes_clean_data.csv (duration: 0.07 min) -->\n",
      "\n",
      "Finish generate_csv.py (total duration: 0.27 min)\n",
      "\n",
      "Start generate_gdp_state.py\n",
      "     --> Start setting API key...\n",
      "     ...Finish setting API key (duration: 0.0 min) -->\n",
      "\n",
      "     --> Start getting coordinates...\n",
      "     ...Finish getting coordinates (duration: 0.03 min) -->\n",
      "\n",
      "     --> Start calculate dataframe with gdp data...\n",
      "     ...Finish calculate dataframe with gdp data (duration: 0.02 min) -->\n",
      "\n",
      "     --> Start saving 02.fred_gdp_usa.csv...\n",
      "     ...Finish saving 02.fred_gdp_usa.csv (duration: 0.0 min) -->\n",
      "\n",
      "Finish generate_gdp_state.py (total duration: 0.05 min)\n",
      "\n",
      "Start generate_final_data.py\n",
      "     --> Start importing csvs for earthquakes and gdp data...\n",
      "     ...Finish importing csvs for earthquakes and gdp data (duration: 0.01 min) -->\n",
      "\n",
      "     --> Start renaming columns for both csvs...\n",
      "     ...Finish renaming columns for both csvs (duration: 0.0 min) -->\n",
      "\n",
      "     --> Start merging both data frames: earthquakes and gdps...\n",
      "     ...Finish merging both data frames: earthquakes and gdps (duration: 0.09 min) -->\n",
      "\n",
      "     --> Start calculation of the distance...\n",
      "     ...Finish calculation of the distance (duration: 13.86 min) -->\n",
      "\n",
      "     --> Start filtering just the events that has a distance less than 600 km...\n",
      "     ...Finish filtering just the events that has a distance less than 600 km (duration: 0.15 min) -->\n",
      "\n",
      "     --> Start saving 03.df_data_mag_gdp.csv...\n",
      "     ...Finish saving 03.df_data_mag_gdp.csv (duration: 0.24 min) -->\n",
      "\n",
      "Finish generate_final_data.py (total duration: 14.35 min)\n",
      "Start analysis.py\n",
      "     --> Start Reading the final processed data...\n",
      "     ...Finish Reading the final processed data (duration: 0.02 min) -->\n",
      "\n",
      "     --> Start generation of graphs for each state of USA...\n",
      "     ...Finish generation of graphs for each state of USA (duration: 0.1 min) -->\n",
      "\n",
      "     --> Start generation of graphs for the whole USA...\n",
      "     ...Finish generation of graphs for the whole USA (duration: 0.01 min) -->\n",
      "\n",
      "Finish analysis.py (total duration: 0.14 min)\n",
      "FINISH MAIN PROCEDURE (general duration: 14.82 min)\n",
      "\n"
     ]
    }
   ],
   "source": [
    "f = open('../src/log_main_earthquake_vs_gdp.txt', 'r')\n",
    "file_contents = f.read()\n",
    "print (file_contents)\n",
    "f.close()"
   ]
  }
 ],
 "metadata": {
  "kernelspec": {
   "display_name": "Python 3 (ipykernel)",
   "language": "python",
   "name": "python3"
  },
  "language_info": {
   "codemirror_mode": {
    "name": "ipython",
    "version": 3
   },
   "file_extension": ".py",
   "mimetype": "text/x-python",
   "name": "python",
   "nbconvert_exporter": "python",
   "pygments_lexer": "ipython3",
   "version": "3.9.7"
  }
 },
 "nbformat": 4,
 "nbformat_minor": 5
}
