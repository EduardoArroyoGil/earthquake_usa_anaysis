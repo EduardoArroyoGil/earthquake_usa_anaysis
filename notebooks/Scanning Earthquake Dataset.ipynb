{
 "cells": [
  {
   "cell_type": "markdown",
   "id": "bd7af027",
   "metadata": {},
   "source": [
    "# Scanning Earthquake Datase"
   ]
  },
  {
   "cell_type": "markdown",
   "id": "d02daac1",
   "metadata": {},
   "source": [
    "The aim of this jupyter notebook is to give an overview of the earthquake data set and analyse the main actions to do in next steps to finally get the clean data set that will be enriched by GDP FRED data."
   ]
  },
  {
   "cell_type": "code",
   "execution_count": 1,
   "id": "6f97da7f",
   "metadata": {},
   "outputs": [],
   "source": [
    "import pandas as pd"
   ]
  },
  {
   "cell_type": "code",
   "execution_count": 3,
   "id": "28cea374",
   "metadata": {},
   "outputs": [],
   "source": [
    "df = pd.read_csv(\"../data/consolidated_data.csv\") "
   ]
  },
  {
   "cell_type": "markdown",
   "id": "0f385ec7",
   "metadata": {},
   "source": [
    "The dataset has 23 columns and 3272774 rows, it has 0% of duplicates. The columns are:\n",
    "\n",
    "* **\"Unnamed: 0\":** This column is just the key to distinct every row of the data set.\n",
    "* **time:** This is the date when the magintude was measured. Times are reported in milliseconds since \n",
    "* **latitude:** The latitude coordinate where the magnitude was measured in decimal degrees.\n",
    "* **longitude:** The longitude coordinate where the magnitude was measured in decimal degrees.\n",
    "* **depth:** Depth of the event in kilometers\n",
    "* **mag:** The magnitude for the event. It depends on column 'magType'\n",
    "* **magType:** The method or algorithm used to calculate the preferred magnitude for the event (“Md”, “Ml”, “Ms”, “Mw”, “Me”, “Mi”, “Mb”, “MLg”)\n",
    "* **nst:** The total number of seismic stations used to determine earthquake location.\n",
    "* **gap:** The largest azimuthal gap between azimuthally adjacent stations (in degrees). In general, the smaller this number, the more reliable is the calculated horizontal position of the earthquake. Earthquake locations in which the azimuthal gap exceeds 180 degrees typically have large location and depth uncertainties.\n",
    "* **dmin:** Horizontal distance from the epicenter to the nearest station (in degrees). 1 degree is approximately 111.2 kilometers. In general, the smaller this number, the more reliable is the calculated depth of the earthquake.\n",
    "* **rms:** The root-mean-square (RMS) travel time residual, in sec, using all weights. This parameter provides a measure of the fit of the observed arrival times to the predicted arrival times for this location. Smaller numbers reflect a better fit of the data. The value is dependent on the accuracy of the velocity model used to compute the earthquake location, the quality weights assigned to the arrival time data, and the procedure used to locate the earthquake.\n",
    "* **net:** The ID of a data contributor. Identifies the network considered to be the preferred source of information for this event. (ak, at, ci, hv, ld, mb, nc, nm, nn, pr, pt, se, us, uu, uw)\n",
    "* **id:** A unique identifier for the event. This is the current preferred id for the event, and may change over time.\n",
    "* **updated:** Time when the event was most recently updated. Times are reported in milliseconds since the epoch. In certain output formats, the date is formatted for readability.\n",
    "* **place:** Textual description of named geographic region near to the event. (ex.: '29km NE of Independence, CA', '11km SSW of Lake Nacimiento, CA','4km S of La Canada Flintridge, CA', '9km S of Cabazon, CA'...)\n",
    "* **type:** Type of seismic event (ex.: 'sonic boom', 'earthquake', 'quarry blast', 'explosion','nuclear explosion', 'mine collapse', 'other event','chemical explosion', 'rock burst', 'ice quake'...)\n",
    "* **horizontalError:** Uncertainty of reported location of the event in kilometers.\n",
    "* **depthError:** Uncertainty of reported depth of the event in kilometers.\n",
    "* **magError:** Uncertainty of reported magnitude of the event. The estimated standard error of the magnitude. The uncertainty corresponds to the specific magnitude type being reported and does not take into account magnitude variations and biases between different magnitude scales. We report an \"unknown\" value if the contributing seismic network does not supply uncertainty estimates.\n",
    "* **magNst:** The total number of seismic stations used to calculate the magnitude for this earthquake.\n",
    "* **status:** Indicates whether the event has been reviewed by a human (ex.: 'reviewed', 'automatic', 'manual')\n",
    "* **locationSource:** The network that originally authored the reported location of this event.\n",
    "* **magSource:** Network that originally authored the reported magnitude for this event. (ex.: ak, at, ci, hv, ld, mb, nc, nm, nn, pr, pt, se, us, uu, uw...)"
   ]
  },
  {
   "cell_type": "code",
   "execution_count": 6,
   "id": "f0afb909",
   "metadata": {},
   "outputs": [
    {
     "data": {
      "text/plain": [
       "(3272774, 23)"
      ]
     },
     "execution_count": 6,
     "metadata": {},
     "output_type": "execute_result"
    }
   ],
   "source": [
    "df.shape"
   ]
  },
  {
   "cell_type": "code",
   "execution_count": 7,
   "id": "afbb0e85",
   "metadata": {},
   "outputs": [
    {
     "data": {
      "text/plain": [
       "Index(['Unnamed: 0', 'time', 'latitude', 'longitude', 'depth', 'mag',\n",
       "       'magType', 'nst', 'gap', 'dmin', 'rms', 'net', 'id', 'updated', 'place',\n",
       "       'type', 'horizontalError', 'depthError', 'magError', 'magNst', 'status',\n",
       "       'locationSource', 'magSource'],\n",
       "      dtype='object')"
      ]
     },
     "execution_count": 7,
     "metadata": {},
     "output_type": "execute_result"
    }
   ],
   "source": [
    "df.columns"
   ]
  },
  {
   "cell_type": "code",
   "execution_count": 15,
   "id": "8a9a7036",
   "metadata": {},
   "outputs": [
    {
     "name": "stdout",
     "output_type": "stream",
     "text": [
      "False    100.0\n",
      "dtype: float64\n"
     ]
    }
   ],
   "source": [
    "percentage = df.duplicated(keep=False).value_counts(normalize=True) * 100\n",
    "print (percentage)"
   ]
  },
  {
   "cell_type": "code",
   "execution_count": 22,
   "id": "e27e1cfd",
   "metadata": {},
   "outputs": [
    {
     "data": {
      "text/plain": [
       "array(['reviewed', 'automatic', 'manual', nan], dtype=object)"
      ]
     },
     "execution_count": 22,
     "metadata": {},
     "output_type": "execute_result"
    }
   ],
   "source": [
    "df['status'].unique()[:10]"
   ]
  },
  {
   "cell_type": "code",
   "execution_count": 21,
   "id": "1f73540d",
   "metadata": {},
   "outputs": [
    {
     "data": {
      "text/plain": [
       "array(['ci', 'uw', 'iscgem', 'nc', 'us', 'erl', 'slm', 'ath', 'pas',\n",
       "       'hvo'], dtype=object)"
      ]
     },
     "execution_count": 21,
     "metadata": {},
     "output_type": "execute_result"
    }
   ],
   "source": [
    "df['magSource'].unique()[:10]"
   ]
  },
  {
   "cell_type": "code",
   "execution_count": 23,
   "id": "1e7428eb",
   "metadata": {},
   "outputs": [
    {
     "data": {
      "text/plain": [
       "array(['29km NE of Independence, CA', '11km SSW of Lake Nacimiento, CA',\n",
       "       '4km S of La Canada Flintridge, CA', '9km S of Cabazon, CA',\n",
       "       '5km SE of Niland, CA', '13km SW of Ocotillo, CA',\n",
       "       '30km SSW of Primm, NV', 'Washington',\n",
       "       '8km NE of Mexicali, B.C., MX', 'Kermadec Islands, New Zealand'],\n",
       "      dtype=object)"
      ]
     },
     "execution_count": 23,
     "metadata": {},
     "output_type": "execute_result"
    }
   ],
   "source": [
    "df['place'].unique()[:10]"
   ]
  },
  {
   "cell_type": "code",
   "execution_count": 24,
   "id": "14011e7a",
   "metadata": {
    "scrolled": true
   },
   "outputs": [
    {
     "data": {
      "text/plain": [
       "array(['sonic boom', 'earthquake', 'quarry blast', 'explosion',\n",
       "       'nuclear explosion', 'mine collapse', 'other event',\n",
       "       'chemical explosion', 'rock burst', 'ice quake'], dtype=object)"
      ]
     },
     "execution_count": 24,
     "metadata": {},
     "output_type": "execute_result"
    }
   ],
   "source": [
    "df['type'].unique()[:10]"
   ]
  },
  {
   "cell_type": "markdown",
   "id": "f10525bd",
   "metadata": {},
   "source": [
    "Here you can see a sample of the dataset:"
   ]
  },
  {
   "cell_type": "code",
   "execution_count": 10,
   "id": "e29331c3",
   "metadata": {
    "scrolled": false
   },
   "outputs": [
    {
     "data": {
      "text/html": [
       "<div>\n",
       "<style scoped>\n",
       "    .dataframe tbody tr th:only-of-type {\n",
       "        vertical-align: middle;\n",
       "    }\n",
       "\n",
       "    .dataframe tbody tr th {\n",
       "        vertical-align: top;\n",
       "    }\n",
       "\n",
       "    .dataframe thead th {\n",
       "        text-align: right;\n",
       "    }\n",
       "</style>\n",
       "<table border=\"1\" class=\"dataframe\">\n",
       "  <thead>\n",
       "    <tr style=\"text-align: right;\">\n",
       "      <th></th>\n",
       "      <th>Unnamed: 0</th>\n",
       "      <th>time</th>\n",
       "      <th>latitude</th>\n",
       "      <th>longitude</th>\n",
       "      <th>depth</th>\n",
       "      <th>mag</th>\n",
       "      <th>magType</th>\n",
       "      <th>nst</th>\n",
       "      <th>gap</th>\n",
       "      <th>dmin</th>\n",
       "      <th>...</th>\n",
       "      <th>updated</th>\n",
       "      <th>place</th>\n",
       "      <th>type</th>\n",
       "      <th>horizontalError</th>\n",
       "      <th>depthError</th>\n",
       "      <th>magError</th>\n",
       "      <th>magNst</th>\n",
       "      <th>status</th>\n",
       "      <th>locationSource</th>\n",
       "      <th>magSource</th>\n",
       "    </tr>\n",
       "  </thead>\n",
       "  <tbody>\n",
       "    <tr>\n",
       "      <th>1457355</th>\n",
       "      <td>2241313</td>\n",
       "      <td>2003-01-23T19:45:44.231Z</td>\n",
       "      <td>63.473900</td>\n",
       "      <td>-151.243100</td>\n",
       "      <td>8.800</td>\n",
       "      <td>1.70</td>\n",
       "      <td>ml</td>\n",
       "      <td>NaN</td>\n",
       "      <td>NaN</td>\n",
       "      <td>NaN</td>\n",
       "      <td>...</td>\n",
       "      <td>2019-02-12T20:59:32.287Z</td>\n",
       "      <td>Central Alaska</td>\n",
       "      <td>earthquake</td>\n",
       "      <td>NaN</td>\n",
       "      <td>1.70</td>\n",
       "      <td>NaN</td>\n",
       "      <td>NaN</td>\n",
       "      <td>reviewed</td>\n",
       "      <td>ak</td>\n",
       "      <td>ak</td>\n",
       "    </tr>\n",
       "    <tr>\n",
       "      <th>1677988</th>\n",
       "      <td>1423966</td>\n",
       "      <td>2005-02-07T06:31:55.950Z</td>\n",
       "      <td>38.801167</td>\n",
       "      <td>-122.737500</td>\n",
       "      <td>0.723</td>\n",
       "      <td>NaN</td>\n",
       "      <td>NaN</td>\n",
       "      <td>6.0</td>\n",
       "      <td>144.0</td>\n",
       "      <td>0.01712</td>\n",
       "      <td>...</td>\n",
       "      <td>2017-01-10T16:11:12.423Z</td>\n",
       "      <td>Northern California</td>\n",
       "      <td>earthquake</td>\n",
       "      <td>0.390</td>\n",
       "      <td>1.08</td>\n",
       "      <td>NaN</td>\n",
       "      <td>NaN</td>\n",
       "      <td>reviewed</td>\n",
       "      <td>nc</td>\n",
       "      <td>nc</td>\n",
       "    </tr>\n",
       "    <tr>\n",
       "      <th>483296</th>\n",
       "      <td>2905502</td>\n",
       "      <td>1988-02-26T08:37:46.880Z</td>\n",
       "      <td>46.740500</td>\n",
       "      <td>-119.353333</td>\n",
       "      <td>-0.217</td>\n",
       "      <td>1.00</td>\n",
       "      <td>md</td>\n",
       "      <td>8.0</td>\n",
       "      <td>116.0</td>\n",
       "      <td>0.05904</td>\n",
       "      <td>...</td>\n",
       "      <td>2016-07-24T20:30:47.930Z</td>\n",
       "      <td>Washington</td>\n",
       "      <td>earthquake</td>\n",
       "      <td>0.036</td>\n",
       "      <td>0.07</td>\n",
       "      <td>0.100</td>\n",
       "      <td>4.0</td>\n",
       "      <td>reviewed</td>\n",
       "      <td>uw</td>\n",
       "      <td>uw</td>\n",
       "    </tr>\n",
       "    <tr>\n",
       "      <th>157058</th>\n",
       "      <td>2227893</td>\n",
       "      <td>1981-08-20T02:12:27.180Z</td>\n",
       "      <td>38.799833</td>\n",
       "      <td>-122.803167</td>\n",
       "      <td>1.012</td>\n",
       "      <td>1.16</td>\n",
       "      <td>md</td>\n",
       "      <td>11.0</td>\n",
       "      <td>79.0</td>\n",
       "      <td>0.01081</td>\n",
       "      <td>...</td>\n",
       "      <td>2016-12-13T04:07:01.896Z</td>\n",
       "      <td>Northern California</td>\n",
       "      <td>earthquake</td>\n",
       "      <td>0.310</td>\n",
       "      <td>0.47</td>\n",
       "      <td>0.130</td>\n",
       "      <td>9.0</td>\n",
       "      <td>reviewed</td>\n",
       "      <td>nc</td>\n",
       "      <td>nc</td>\n",
       "    </tr>\n",
       "    <tr>\n",
       "      <th>1834676</th>\n",
       "      <td>3227071</td>\n",
       "      <td>2006-08-03T06:34:50.420Z</td>\n",
       "      <td>37.005333</td>\n",
       "      <td>-121.471000</td>\n",
       "      <td>3.543</td>\n",
       "      <td>0.82</td>\n",
       "      <td>md</td>\n",
       "      <td>11.0</td>\n",
       "      <td>101.0</td>\n",
       "      <td>0.02252</td>\n",
       "      <td>...</td>\n",
       "      <td>2017-01-15T02:18:52.118Z</td>\n",
       "      <td>Northern California</td>\n",
       "      <td>earthquake</td>\n",
       "      <td>0.400</td>\n",
       "      <td>0.51</td>\n",
       "      <td>0.230</td>\n",
       "      <td>2.0</td>\n",
       "      <td>reviewed</td>\n",
       "      <td>nc</td>\n",
       "      <td>nc</td>\n",
       "    </tr>\n",
       "    <tr>\n",
       "      <th>225628</th>\n",
       "      <td>672636</td>\n",
       "      <td>1983-05-12T12:35:00.540Z</td>\n",
       "      <td>32.145000</td>\n",
       "      <td>-115.803000</td>\n",
       "      <td>5.694</td>\n",
       "      <td>2.48</td>\n",
       "      <td>ml</td>\n",
       "      <td>13.0</td>\n",
       "      <td>272.0</td>\n",
       "      <td>0.50700</td>\n",
       "      <td>...</td>\n",
       "      <td>2016-02-02T18:51:26.500Z</td>\n",
       "      <td>53km SSW of Progreso, B.C., MX</td>\n",
       "      <td>earthquake</td>\n",
       "      <td>3.920</td>\n",
       "      <td>31.61</td>\n",
       "      <td>0.131</td>\n",
       "      <td>2.0</td>\n",
       "      <td>reviewed</td>\n",
       "      <td>ci</td>\n",
       "      <td>ci</td>\n",
       "    </tr>\n",
       "    <tr>\n",
       "      <th>1353602</th>\n",
       "      <td>535684</td>\n",
       "      <td>2001-12-18T08:14:18.700Z</td>\n",
       "      <td>44.808500</td>\n",
       "      <td>-111.043500</td>\n",
       "      <td>7.060</td>\n",
       "      <td>0.61</td>\n",
       "      <td>md</td>\n",
       "      <td>11.0</td>\n",
       "      <td>203.0</td>\n",
       "      <td>0.04651</td>\n",
       "      <td>...</td>\n",
       "      <td>2018-08-28T19:31:54.600Z</td>\n",
       "      <td>Yellowstone National Park, Wyoming</td>\n",
       "      <td>earthquake</td>\n",
       "      <td>0.630</td>\n",
       "      <td>0.68</td>\n",
       "      <td>NaN</td>\n",
       "      <td>4.0</td>\n",
       "      <td>reviewed</td>\n",
       "      <td>uu</td>\n",
       "      <td>uu</td>\n",
       "    </tr>\n",
       "  </tbody>\n",
       "</table>\n",
       "<p>7 rows × 23 columns</p>\n",
       "</div>"
      ],
      "text/plain": [
       "         Unnamed: 0                      time   latitude   longitude  depth  \\\n",
       "1457355     2241313  2003-01-23T19:45:44.231Z  63.473900 -151.243100  8.800   \n",
       "1677988     1423966  2005-02-07T06:31:55.950Z  38.801167 -122.737500  0.723   \n",
       "483296      2905502  1988-02-26T08:37:46.880Z  46.740500 -119.353333 -0.217   \n",
       "157058      2227893  1981-08-20T02:12:27.180Z  38.799833 -122.803167  1.012   \n",
       "1834676     3227071  2006-08-03T06:34:50.420Z  37.005333 -121.471000  3.543   \n",
       "225628       672636  1983-05-12T12:35:00.540Z  32.145000 -115.803000  5.694   \n",
       "1353602      535684  2001-12-18T08:14:18.700Z  44.808500 -111.043500  7.060   \n",
       "\n",
       "          mag magType   nst    gap     dmin  ...                   updated  \\\n",
       "1457355  1.70      ml   NaN    NaN      NaN  ...  2019-02-12T20:59:32.287Z   \n",
       "1677988   NaN     NaN   6.0  144.0  0.01712  ...  2017-01-10T16:11:12.423Z   \n",
       "483296   1.00      md   8.0  116.0  0.05904  ...  2016-07-24T20:30:47.930Z   \n",
       "157058   1.16      md  11.0   79.0  0.01081  ...  2016-12-13T04:07:01.896Z   \n",
       "1834676  0.82      md  11.0  101.0  0.02252  ...  2017-01-15T02:18:52.118Z   \n",
       "225628   2.48      ml  13.0  272.0  0.50700  ...  2016-02-02T18:51:26.500Z   \n",
       "1353602  0.61      md  11.0  203.0  0.04651  ...  2018-08-28T19:31:54.600Z   \n",
       "\n",
       "                                      place        type horizontalError  \\\n",
       "1457355                      Central Alaska  earthquake             NaN   \n",
       "1677988                 Northern California  earthquake           0.390   \n",
       "483296                           Washington  earthquake           0.036   \n",
       "157058                  Northern California  earthquake           0.310   \n",
       "1834676                 Northern California  earthquake           0.400   \n",
       "225628       53km SSW of Progreso, B.C., MX  earthquake           3.920   \n",
       "1353602  Yellowstone National Park, Wyoming  earthquake           0.630   \n",
       "\n",
       "        depthError magError  magNst    status  locationSource  magSource  \n",
       "1457355       1.70      NaN     NaN  reviewed              ak         ak  \n",
       "1677988       1.08      NaN     NaN  reviewed              nc         nc  \n",
       "483296        0.07    0.100     4.0  reviewed              uw         uw  \n",
       "157058        0.47    0.130     9.0  reviewed              nc         nc  \n",
       "1834676       0.51    0.230     2.0  reviewed              nc         nc  \n",
       "225628       31.61    0.131     2.0  reviewed              ci         ci  \n",
       "1353602       0.68      NaN     4.0  reviewed              uu         uu  \n",
       "\n",
       "[7 rows x 23 columns]"
      ]
     },
     "execution_count": 10,
     "metadata": {},
     "output_type": "execute_result"
    }
   ],
   "source": [
    "df.sample(7)"
   ]
  },
  {
   "cell_type": "markdown",
   "id": "ba03f6bd",
   "metadata": {},
   "source": [
    "Therefore data set will be filtered by column \"type\" as \"earthquake and \"magType\" as \"ml\" due to **ml** is the magnitud more accurate to get a measure and the one with more records beside \"md\" magnitude type.\n",
    "\n",
    "**ML magnitude type defnintion**: *The original magnitude relationship defined by Richter and Gutenberg in 1935 for local earthquakes. It is based on the maximum amplitude of a seismogram recorded on a Wood-Anderson torsion seismograph. Although these instruments are no longer widely in use, ML values are calculated using modern instrumentation with appropriate adjustments. Reported by NEIC for all earthquakes in the US and Canada. Only authoritative for smaller events, typically M<4.0 for which there is no mb or moment magnitude. In the central and eastern United States, NEIC also computes ML, but restricts the distance range to 0-150 km. In that area it is only authoritative if there is no mb_Lg as well as no mb or moment magnitude.*\n",
    "\n",
    "\n",
    "For more information about this data set click [here](https://earthquake.usgs.gov/data/comcat/index.php#mag)"
   ]
  }
 ],
 "metadata": {
  "kernelspec": {
   "display_name": "Python 3 (ipykernel)",
   "language": "python",
   "name": "python3"
  },
  "language_info": {
   "codemirror_mode": {
    "name": "ipython",
    "version": 3
   },
   "file_extension": ".py",
   "mimetype": "text/x-python",
   "name": "python",
   "nbconvert_exporter": "python",
   "pygments_lexer": "ipython3",
   "version": "3.9.7"
  }
 },
 "nbformat": 4,
 "nbformat_minor": 5
}
